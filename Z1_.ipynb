{
 "cells": [
  {
   "cell_type": "code",
   "execution_count": 1,
   "metadata": {},
   "outputs": [],
   "source": [
    "import pandas"
   ]
  },
  {
   "cell_type": "code",
   "execution_count": 2,
   "metadata": {},
   "outputs": [
    {
     "name": "stdout",
     "output_type": "stream",
     "text": [
      "Какое количество мужчин и женщин ехало на корабле\n",
      "male      851\n",
      "female    462\n",
      "Name: Sex, dtype: int64\n"
     ]
    }
   ],
   "source": [
    "data = pandas.read_csv('titanic.csv')\n",
    "\n",
    "#Какое количество мужчин и женщин ехало на корабле? \n",
    "print('Какое количество мужчин и женщин ехало на корабле')\n",
    "print(data.Sex.value_counts())"
   ]
  },
  {
   "cell_type": "code",
   "execution_count": 3,
   "metadata": {},
   "outputs": [
    {
     "name": "stdout",
     "output_type": "stream",
     "text": [
      "Доля выживших пассажиров\n",
      "34.27\n"
     ]
    }
   ],
   "source": [
    "#Какой части пассажиров удалось выжить? \n",
    "\n",
    "print('Доля выживших пассажиров')\n",
    "                                        \n",
    "onePercentTotal=data.Survived.count()/100\n",
    "survived=data.Survived.sum()\n",
    "print(round(survived/onePercentTotal,2))"
   ]
  },
  {
   "cell_type": "code",
   "execution_count": 5,
   "metadata": {},
   "outputs": [
    {
     "name": "stdout",
     "output_type": "stream",
     "text": [
      "Посчитайте среднее и медиану возраста пассажиров\n",
      "30.397989417989418\n",
      "28.0\n"
     ]
    }
   ],
   "source": [
    "#Какого возраста были пассажиры? \n",
    "print('Посчитайте среднее и медиану возраста пассажиров')\n",
    "\n",
    "print(data.Age.mean())\n",
    "print(data.Age.median())"
   ]
  },
  {
   "cell_type": "code",
   "execution_count": 15,
   "metadata": {},
   "outputs": [
    {
     "name": "stdout",
     "output_type": "stream",
     "text": [
      "Доля пассажиров первого класса\n",
      "Name    24.52\n",
      "dtype: float64\n"
     ]
    }
   ],
   "source": [
    "#Какую долю пассажиры первого класса составляли среди всех пассажиров? \n",
    "print('Доля пассажиров первого класса')\n",
    "#df.loc[(df['median_house_value'] == df['median_house_value'].min()), ['population']].max()\n",
    "_firstClassCounter = data.loc[(data['PClass'] == '1st'), ['Name']].count()\n",
    "    \n",
    "#_firstClassCounter=data.FirstClassCounter.sum()\n",
    "print(round(_firstClassCounter/onePercentTotal,2))"
   ]
  }
 ],
 "metadata": {
  "kernelspec": {
   "display_name": "Python 3.9.8 64-bit",
   "language": "python",
   "name": "python3"
  },
  "language_info": {
   "codemirror_mode": {
    "name": "ipython",
    "version": 3
   },
   "file_extension": ".py",
   "mimetype": "text/x-python",
   "name": "python",
   "nbconvert_exporter": "python",
   "pygments_lexer": "ipython3",
   "version": "3.9.8"
  },
  "orig_nbformat": 4,
  "vscode": {
   "interpreter": {
    "hash": "073c6390026e666c282280c5accd6a707815819cd4c4c3a87065141d106f1d7b"
   }
  }
 },
 "nbformat": 4,
 "nbformat_minor": 2
}
